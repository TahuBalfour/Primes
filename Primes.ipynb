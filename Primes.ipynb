{
 "cells": [
  {
   "cell_type": "code",
   "execution_count": 150,
   "metadata": {},
   "outputs": [],
   "source": [
    "import math as math\n",
    "import numpy as np\n",
    "import pandas as pan\n",
    "import array as arr"
   ]
  },
  {
   "cell_type": "code",
   "execution_count": 151,
   "metadata": {},
   "outputs": [
    {
     "ename": "IndentationError",
     "evalue": "unexpected indent (<ipython-input-151-895672e8f934>, line 8)",
     "output_type": "error",
     "traceback": [
      "\u001b[0;36m  File \u001b[0;32m\"<ipython-input-151-895672e8f934>\"\u001b[0;36m, line \u001b[0;32m8\u001b[0m\n\u001b[0;31m    for j in range(0,Sup):\u001b[0m\n\u001b[0m    ^\u001b[0m\n\u001b[0;31mIndentationError\u001b[0m\u001b[0;31m:\u001b[0m unexpected indent\n"
     ]
    }
   ],
   "source": [
    "def GetSupremum():\n",
    "    Sup=3\n",
    "    Sup = input(\"Primes up to what number:\\n\")\n",
    "    return Sup\n",
    "\n",
    "def SetInArray(Sup):\n",
    "    Array = []\n",
    "        for j in range(0,Sup):\n",
    "        Array.append(j)\n",
    "    return Array\n",
    "\n",
    "def GetNextPrime(Array):\n",
    "    ArrayDiv = Array\n",
    "    \n",
    "\n",
    "    \n",
    "    \n",
    "def main():\n",
    "    Sup = GetSupremum()\n",
    "    Array = SetInArray(Sup)\n",
    "    Prime = GetNextPrime(Array)"
   ]
  },
  {
   "cell_type": "code",
   "execution_count": 152,
   "metadata": {},
   "outputs": [
    {
     "name": "stdout",
     "output_type": "stream",
     "text": [
      "[ 1  3  5  7  9 11 13 15 17 19 21 23 25 27 29]\n"
     ]
    }
   ],
   "source": [
    "    #####################################\n",
    "    #CreateArray\n",
    "    Array = np.zeros((30,), dtype=int)\n",
    "    ArrayDiv = np.zeros((30,), dtype=int)\n",
    "    count = 0\n",
    "    \n",
    "    for j in range(0,30):\n",
    "        Array[j] = j\n",
    "        \n",
    "    for d in range(0,Array.size):\n",
    "        ArrayDiv[d] = Array[d]%2\n",
    "        if ArrayDiv[d] != 0:\n",
    "            count = count+1\n",
    "    \n",
    "    ######################################\n",
    "    #GetNextPrime\n",
    "    Primes = []\n",
    "    \n",
    "    for j in range(0,Array.size):\n",
    "        if ArrayDiv[j] != 0:\n",
    "            Primes.append(Array[j])\n",
    "            break\n",
    "            \n",
    "    #####################################\n",
    "    #DeletePrimeMultiples\n",
    "    ArrayNew = np.zeros((count,), dtype=int)\n",
    "    index = 0\n",
    "    \n",
    "    for j in range(0,Array.size):\n",
    "        if ArrayDiv[j] != 0:\n",
    "            ArrayNew[index] = Array[j]\n",
    "            index=index+1\n",
    "            \n",
    "    print(ArrayNew)\n",
    "    \n",
    " #####################################\n",
    "    \n",
    "    "
   ]
  },
  {
   "cell_type": "code",
   "execution_count": 31,
   "metadata": {},
   "outputs": [
    {
     "name": "stdout",
     "output_type": "stream",
     "text": [
      "Primes up to what number:\n",
      "33\n",
      "will this work33\n"
     ]
    }
   ],
   "source": [
    "main()"
   ]
  },
  {
   "cell_type": "code",
   "execution_count": 59,
   "metadata": {},
   "outputs": [
    {
     "name": "stdout",
     "output_type": "stream",
     "text": [
      "0.5\n"
     ]
    }
   ],
   "source": [
    "a = 1/2\n",
    "print(a)\n",
    "\n",
    "np.zeros((5,), dtype=int)"
   ]
  },
  {
   "cell_type": "code",
   "execution_count": null,
   "metadata": {},
   "outputs": [],
   "source": []
  }
 ],
 "metadata": {
  "kernelspec": {
   "display_name": "Python 3",
   "language": "python",
   "name": "python3"
  },
  "language_info": {
   "codemirror_mode": {
    "name": "ipython",
    "version": 3
   },
   "file_extension": ".py",
   "mimetype": "text/x-python",
   "name": "python",
   "nbconvert_exporter": "python",
   "pygments_lexer": "ipython3",
   "version": "3.8.3"
  }
 },
 "nbformat": 4,
 "nbformat_minor": 4
}
